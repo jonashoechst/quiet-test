{
 "cells": [
  {
   "cell_type": "code",
   "execution_count": 26,
   "metadata": {},
   "outputs": [],
   "source": [
    "import librosa\n",
    "import os\n",
    "import pandas\n",
    "from matplotlib import pyplot as plt\n",
    "%matplotlib inline"
   ]
  },
  {
   "cell_type": "code",
   "execution_count": 12,
   "metadata": {},
   "outputs": [],
   "source": [
    "wav, samplerate = librosa.load(\"audible_2048.wav\")"
   ]
  },
  {
   "cell_type": "code",
   "execution_count": 15,
   "metadata": {},
   "outputs": [
    {
     "data": {
      "text/plain": [
       "24.531519274376418"
      ]
     },
     "execution_count": 15,
     "metadata": {},
     "output_type": "execute_result"
    }
   ],
   "source": [
    "wav.shape[0] / samplerate"
   ]
  },
  {
   "cell_type": "code",
   "execution_count": 21,
   "metadata": {},
   "outputs": [
    {
     "name": "stdout",
     "output_type": "stream",
     "text": [
      "audible-7k-channel-1 2048 431696 22050 53952\n",
      "audible-7k-channel-0 2048 431696 22050 53952\n",
      "ultrasonic 16384 43396496 22050 5424552\n",
      "audible 2048 4327440 22050 540920\n",
      "audible-7k-channel-1 256 62096 22050 7752\n",
      "audible-7k-channel-0 65536 13542992 22050 1692864\n",
      "ultrasonic-3600 4096 1573792 22050 196714\n",
      "audible 1024 2163920 22050 270480\n",
      "cable-64k 4096 98064 22050 12248\n",
      "audible-7k-channel-0 1024 215312 22050 26904\n",
      "audible-7k-channel-1 1024 215312 22050 26904\n",
      "ultrasonic-whisper 4096 31704080 22050 3963000\n",
      "ultrasonic 4096 10864080 22050 1358000\n",
      "ultrasonic 32768 86792912 22050 10849104\n",
      "cable-64k 16384 382608 22050 47816\n",
      "audible-7k-channel-1 32768 6771536 22050 846432\n",
      "ultrasonic-whisper 128 991760 22050 123960\n",
      "ultrasonic-whisper 512 3963920 22050 495480\n",
      "ultrasonic 256 692240 22050 86520\n",
      "audible-7k-channel-0 256 62096 22050 7752\n",
      "audible-7k-channel-1 16384 3385808 22050 423216\n",
      "audible 256 556880 22050 69600\n",
      "cable-64k 32768 765136 22050 95632\n",
      "ultrasonic-3600 512 197872 22050 24724\n",
      "audible-7k-channel-1 65536 13542992 22050 1692864\n",
      "cable-64k 65536 1530192 22050 191264\n",
      "ultrasonic-3600 128 68512 22050 8554\n",
      "cable-64k 512 19728 22050 2456\n",
      "audible-7k-channel-0 32768 6771536 22050 846432\n",
      "cable-64k 8192 195984 22050 24488\n",
      "ultrasonic-3600 8192 3121408 22050 390166\n",
      "ultrasonic 65536 173585744 22050 21698208\n",
      "ultrasonic 8192 21698512 22050 2712304\n",
      "cable-64k 128 11664 22050 1448\n",
      "ultrasonic-whisper 8192 63407120 22050 7925880\n",
      "audible-7k-channel-0 16384 3385808 22050 423216\n",
      "ultrasonic 1024 2738256 22050 342272\n",
      "ultrasonic-whisper 1024 7926800 22050 990840\n",
      "ultrasonic-whisper 2048 15852560 22050 1981560\n",
      "ultrasonic-whisper 32768 253626320 22050 31703280\n",
      "ultrasonic 2048 5446864 22050 680848\n",
      "audible 65536 138466640 22050 17308320\n",
      "ultrasonic-3600 2048 788224 22050 98518\n",
      "ultrasonic-whisper 16384 126813200 22050 15851640\n",
      "cable-64k 2048 53136 22050 6632\n",
      "audible-7k-channel-1 4096 846992 22050 105864\n",
      "audible-7k-channel-0 4096 846992 22050 105864\n",
      "cable-64k 1024 31248 22050 3896\n",
      "audible 4096 8654480 22050 1081800\n",
      "ultrasonic-3600 256 110848 22050 13846\n",
      "ultrasonic-3600 1024 393088 22050 49126\n",
      "ultrasonic-3600 32768 12484944 22050 1560608\n",
      "cable-64k 256 13968 22050 1736\n",
      "ultrasonic-3600 16384 6242512 22050 780304\n",
      "audible-7k-channel-1 128 39248 22050 4896\n",
      "ultrasonic-3600 65536 24969808 22050 3121216\n",
      "audible-7k-channel-1 512 107792 22050 13464\n",
      "ultrasonic-whisper 256 1982480 22050 247800\n",
      "ultrasonic-whisper 65536 507252560 22050 63406560\n",
      "audible 16384 34616720 22050 4327080\n",
      "ultrasonic 512 1383952 22050 172984\n",
      "audible-7k-channel-0 512 107792 22050 13464\n",
      "audible 512 1092560 22050 136560\n",
      "audible 128 289040 22050 36120\n",
      "audible-7k-channel-0 128 39248 22050 4896\n",
      "ultrasonic 128 346384 22050 43288\n",
      "audible 8192 17308560 22050 2163560\n",
      "audible-7k-channel-1 8192 1693712 22050 211704\n",
      "audible-7k-channel-0 8192 1693712 22050 211704\n",
      "audible 32768 69233360 22050 8654160\n"
     ]
    }
   ],
   "source": [
    "wavs = []\n",
    "\n",
    "for root, dirs, files in os.walk(\".\"):\n",
    "    for name in files:\n",
    "        if name.endswith(\"wav\"):\n",
    "            profile, datasize = name.split(\".\")[0].split(\"_\")\n",
    "            filesize = os.path.getsize(name)\n",
    "            wav, samplerate = librosa.load(name)\n",
    "            \n",
    "            info = (profile, datasize, filesize, samplerate, wav.shape[0])\n",
    "            print(\" \".join([str(i) for i in info]))\n",
    "            wavs.append(info)"
   ]
  },
  {
   "cell_type": "code",
   "execution_count": 57,
   "metadata": {},
   "outputs": [],
   "source": [
    "df = pandas.DataFrame(wavs, columns=[\"profile\", \"datasize\", \"filesize\", \"samplerate\", \"samples\"])\n",
    "df[\"datasize\"] = pandas.to_numeric(df[\"datasize\"])\n",
    "df[\"filesize\"] = pandas.to_numeric(df[\"filesize\"])\n",
    "df[\"samplerate\"] = pandas.to_numeric(df[\"samplerate\"])\n",
    "df[\"samples\"] = pandas.to_numeric(df[\"samples\"])\n",
    "df.sort_values(by=[\"profile\", \"datasize\"])\n",
    "\n",
    "df[\"duration\"] = df[\"samples\"] / df[\"samplerate\"]\n",
    "df.set_index([\"datasize\"], inplace=True)"
   ]
  },
  {
   "cell_type": "code",
   "execution_count": 60,
   "metadata": {},
   "outputs": [
    {
     "data": {
      "text/plain": [
       "profile\n",
       "audible                 AxesSubplot(0.125,0.125;0.775x0.755)\n",
       "audible-7k-channel-0    AxesSubplot(0.125,0.125;0.775x0.755)\n",
       "audible-7k-channel-1    AxesSubplot(0.125,0.125;0.775x0.755)\n",
       "cable-64k               AxesSubplot(0.125,0.125;0.775x0.755)\n",
       "ultrasonic              AxesSubplot(0.125,0.125;0.775x0.755)\n",
       "ultrasonic-3600         AxesSubplot(0.125,0.125;0.775x0.755)\n",
       "ultrasonic-whisper      AxesSubplot(0.125,0.125;0.775x0.755)\n",
       "Name: duration, dtype: object"
      ]
     },
     "execution_count": 60,
     "metadata": {},
     "output_type": "execute_result"
    },
    {
     "data": {
      "image/png": "[encoded data removed]",
      "text/plain": [
       "<Figure size 432x288 with 1 Axes>"
      ]
     },
     "metadata": {
      "needs_background": "light"
     },
     "output_type": "display_data"
    }
   ],
   "source": [
    "\n",
    "df.groupby('profile')['duration'].plot(legend=True)\n",
    "#df.groupby('ticker')['adj_close'].plot(legend=True)\n",
    "\n",
    "#df.plot(x=\"datasize\", y=\"duration\")"
   ]
  },
  {
   "cell_type": "code",
   "execution_count": null,
   "metadata": {},
   "outputs": [],
   "source": []
  }
 ],
 "metadata": {
  "kernelspec": {
   "display_name": "Python 3",
   "language": "python",
   "name": "python3"
  },
  "language_info": {
   "codemirror_mode": {
    "name": "ipython",
    "version": 3
   },
   "file_extension": ".py",
   "mimetype": "text/x-python",
   "name": "python",
   "nbconvert_exporter": "python",
   "pygments_lexer": "ipython3",
   "version": "3.7.4"
  }
 },
 "nbformat": 4,
 "nbformat_minor": 2
}
